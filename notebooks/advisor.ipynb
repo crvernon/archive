{
 "cells": [
  {
   "cell_type": "code",
   "execution_count": 1,
   "id": "cd215458-d84e-46da-9df5-266af30c6053",
   "metadata": {},
   "outputs": [],
   "source": [
    "import os\n",
    "import glob\n",
    "import tempfile\n",
    "\n",
    "import numpy as np\n",
    "import pandas as pd\n",
    "import streamlit as st\n",
    "# from streamlit_chat import message\n",
    "from langchain.embeddings.openai import OpenAIEmbeddings\n",
    "from langchain.chat_models import ChatOpenAI\n",
    "from langchain.chains import ConversationalRetrievalChain\n",
    "# from langchain.document_loaders.csv_loader import CSVLoader\n",
    "from langchain.document_loaders import DataFrameLoader\n",
    "from langchain.vectorstores import FAISS\n",
    "\n",
    "from langchain.indexes import VectorstoreIndexCreator\n",
    "from langchain.document_loaders import PyPDFLoader\n",
    "from langchain.vectorstores import Chroma\n",
    "from langchain.chains import ConversationalRetrievalChain \n",
    "from langchain.text_splitter import CharacterTextSplitter, RecursiveCharacterTextSplitter\n",
    "from langchain.document_loaders import DirectoryLoader\n",
    "from langchain.chains import RetrievalQA\n",
    "\n"
   ]
  },
  {
   "cell_type": "code",
   "execution_count": 2,
   "id": "e161230e-8577-4239-8c2b-731ac8093b69",
   "metadata": {},
   "outputs": [],
   "source": [
    "data_dir = \"/Users/d3y010/repos/crvernon/archive/data/documents\"\n",
    "db_dir = \"/Users/d3y010/repos/crvernon/archive/data/archive\"\n",
    "\n",
    "# get a list of PDF files\n",
    "pdf_files = glob.glob(os.path.join(data_dir, \"*.pdf\"))\n"
   ]
  },
  {
   "cell_type": "code",
   "execution_count": 3,
   "id": "f22aaabd-64af-4eca-8b55-5610fc82e92a",
   "metadata": {},
   "outputs": [],
   "source": [
    "loader = DirectoryLoader(data_dir, glob=\"*.pdf\", loader_cls=PyPDFLoader)\n"
   ]
  },
  {
   "cell_type": "code",
   "execution_count": 4,
   "id": "755fa712-36b0-4e5b-80f0-1261138fca9f",
   "metadata": {},
   "outputs": [],
   "source": [
    "documents = loader.load()\n"
   ]
  },
  {
   "cell_type": "code",
   "execution_count": 5,
   "id": "e083f339-a18c-4685-8383-8bf0095c40ff",
   "metadata": {},
   "outputs": [],
   "source": [
    "text_splitter = RecursiveCharacterTextSplitter(chunk_size=500, chunk_overlap=100)\n"
   ]
  },
  {
   "cell_type": "code",
   "execution_count": 6,
   "id": "529c6345-70b8-4afe-852f-a5ec8933295b",
   "metadata": {},
   "outputs": [],
   "source": [
    "texts = text_splitter.split_documents(documents)\n"
   ]
  },
  {
   "cell_type": "code",
   "execution_count": 7,
   "id": "4723ebd2-66f3-45c9-adaa-d8af4a003770",
   "metadata": {},
   "outputs": [],
   "source": [
    "embeddings = OpenAIEmbeddings()\n"
   ]
  },
  {
   "cell_type": "code",
   "execution_count": 8,
   "id": "a291eb50-2bc8-4b81-b710-f42f8d9d5317",
   "metadata": {},
   "outputs": [],
   "source": [
    "db = Chroma.from_documents(texts, \n",
    "                            embedding=embeddings,\n",
    "                            persist_directory=db_dir)\n",
    "\n",
    "db.persist()\n"
   ]
  },
  {
   "cell_type": "code",
   "execution_count": null,
   "id": "d4eed348-2e22-45a8-aabb-227614907bca",
   "metadata": {},
   "outputs": [],
   "source": [
    "# # load from disk once created \n",
    "# db = Chroma(embedding=embeddings,\n",
    "#             persist_directory=\".\")\n"
   ]
  },
  {
   "cell_type": "code",
   "execution_count": 3,
   "id": "6467a338-555c-4b4a-bdf5-e26644d0d828",
   "metadata": {},
   "outputs": [],
   "source": [
    "# target_pdf = pdf_files[1]\n"
   ]
  },
  {
   "cell_type": "code",
   "execution_count": 4,
   "id": "73c9f303-fa36-4037-9fa6-172e756bf737",
   "metadata": {},
   "outputs": [
    {
     "data": {
      "text/plain": [
       "'/Users/d3y010/projects/gcims/gcam_advisor/data/documents/1-s2.0-S0301421517304469-main.pdf'"
      ]
     },
     "execution_count": 4,
     "metadata": {},
     "output_type": "execute_result"
    }
   ],
   "source": [
    "# target_pdf"
   ]
  },
  {
   "cell_type": "code",
   "execution_count": 5,
   "id": "920ad997-d749-454c-9f44-9e647a6faf51",
   "metadata": {},
   "outputs": [],
   "source": [
    "# loader = PyPDFLoader(target_pdf)\n"
   ]
  },
  {
   "cell_type": "code",
   "execution_count": 6,
   "id": "b21f836e-b897-409d-b42f-ceeb5bf38671",
   "metadata": {},
   "outputs": [],
   "source": [
    "# documents = loader.load()\n"
   ]
  },
  {
   "cell_type": "code",
   "execution_count": 7,
   "id": "2ea36b27-01e9-4966-ad4d-940ed41d6bb5",
   "metadata": {},
   "outputs": [],
   "source": [
    "# split the documents into chunks\n",
    "# text_splitter = CharacterTextSplitter(chunk_size=500, chunk_overlap=50)\n",
    "\n",
    "# texts = text_splitter.split_documents(documents)\n"
   ]
  },
  {
   "cell_type": "code",
   "execution_count": 8,
   "id": "5ebcc8ce-6f3a-47ae-95e1-d8a470db9b8f",
   "metadata": {},
   "outputs": [],
   "source": [
    "# embeddings = OpenAIEmbeddings()\n"
   ]
  },
  {
   "cell_type": "code",
   "execution_count": 13,
   "id": "e255d801-68c3-4753-8026-11de3146bfb0",
   "metadata": {},
   "outputs": [],
   "source": [
    "retriever = db.as_retriever(\n",
    "    search_type=\"similarity\",\n",
    "    # search_type=\"mmr\",\n",
    "    search_kwargs={\"k\": 4}\n",
    ")\n",
    "\n",
    "                            "
   ]
  },
  {
   "cell_type": "code",
   "execution_count": 14,
   "id": "61767ec0-91dd-47b6-9301-5cd38930ace7",
   "metadata": {},
   "outputs": [
    {
     "data": {
      "text/plain": [
       "4"
      ]
     },
     "execution_count": 14,
     "metadata": {},
     "output_type": "execute_result"
    }
   ],
   "source": [
    "docs = retriever.get_relevant_documents(\"What is GCAM?\")\n",
    "\n",
    "len(docs)\n"
   ]
  },
  {
   "cell_type": "code",
   "execution_count": null,
   "id": "a64e962b-3168-43c5-b96b-97ba11c99b81",
   "metadata": {},
   "outputs": [],
   "source": []
  },
  {
   "cell_type": "code",
   "execution_count": 24,
   "id": "4cb36983-bd40-428f-a354-3c667d438083",
   "metadata": {},
   "outputs": [
    {
     "data": {
      "text/html": [
       "<div>\n",
       "<style scoped>\n",
       "    .dataframe tbody tr th:only-of-type {\n",
       "        vertical-align: middle;\n",
       "    }\n",
       "\n",
       "    .dataframe tbody tr th {\n",
       "        vertical-align: top;\n",
       "    }\n",
       "\n",
       "    .dataframe thead th {\n",
       "        text-align: right;\n",
       "    }\n",
       "</style>\n",
       "<table border=\"1\" class=\"dataframe\">\n",
       "  <thead>\n",
       "    <tr style=\"text-align: right;\">\n",
       "      <th></th>\n",
       "      <th>source</th>\n",
       "      <th>page_number</th>\n",
       "      <th>text_excerpt</th>\n",
       "    </tr>\n",
       "  </thead>\n",
       "  <tbody>\n",
       "    <tr>\n",
       "      <th>0</th>\n",
       "      <td>gmd-12-677-2019.pdf</td>\n",
       "      <td>0</td>\n",
       "      <td>...decades into the future. GCAM has its roots...</td>\n",
       "    </tr>\n",
       "    <tr>\n",
       "      <th>1</th>\n",
       "      <td>gmd-12-677-2019.pdf</td>\n",
       "      <td>18</td>\n",
       "      <td>...All code and inputs are available at https:...</td>\n",
       "    </tr>\n",
       "    <tr>\n",
       "      <th>2</th>\n",
       "      <td>gmd-12-677-2019.pdf</td>\n",
       "      <td>0</td>\n",
       "      <td>...Revised: 6 January 2019 – Accepted: 17 Janu...</td>\n",
       "    </tr>\n",
       "    <tr>\n",
       "      <th>3</th>\n",
       "      <td>gmd-12-677-2019.pdf</td>\n",
       "      <td>17</td>\n",
       "      <td>...important for informing both our scientiﬁc ...</td>\n",
       "    </tr>\n",
       "  </tbody>\n",
       "</table>\n",
       "</div>"
      ],
      "text/plain": [
       "                source  page_number  \\\n",
       "0  gmd-12-677-2019.pdf            0   \n",
       "1  gmd-12-677-2019.pdf           18   \n",
       "2  gmd-12-677-2019.pdf            0   \n",
       "3  gmd-12-677-2019.pdf           17   \n",
       "\n",
       "                                        text_excerpt  \n",
       "0  ...decades into the future. GCAM has its roots...  \n",
       "1  ...All code and inputs are available at https:...  \n",
       "2  ...Revised: 6 January 2019 – Accepted: 17 Janu...  \n",
       "3  ...important for informing both our scientiﬁc ...  "
      ]
     },
     "execution_count": 24,
     "metadata": {},
     "output_type": "execute_result"
    }
   ],
   "source": [
    "d = {\"source\": [], \"page_number\": [], \"text_excerpt\": []}\n",
    "for i in docs:\n",
    "    extracted_text = i.page_content.replace(\"\\n\", \"\")\n",
    "\n",
    "    text_excerpt = f\"...{extracted_text}...\"\n",
    "\n",
    "    metadata = i.metadata\n",
    "    \n",
    "    d[\"source\"].append(os.path.basename(metadata[\"source\"]))\n",
    "    d[\"page_number\"].append(metadata[\"page\"])\n",
    "    d[\"text_excerpt\"].append(text_excerpt)\n",
    "    \n",
    "df = pd.DataFrame(d)\n",
    "\n",
    "df\n"
   ]
  },
  {
   "cell_type": "code",
   "execution_count": 25,
   "id": "aee8c03c-1c69-4856-b505-895cb42a26fe",
   "metadata": {},
   "outputs": [
    {
     "data": {
      "text/plain": [
       "Document(page_content='Revised: 6 January 2019 – Accepted: 17 January 2019 – Published: 15 February 2019\\nAbstract. This paper describes GCAM v5.1, an open source\\nmodel that represents the linkages between energy, water,\\nland, climate, and economic systems. GCAM is a market\\nequilibrium model, is global in scope, and operates from\\n1990 to 2100 in 5-year time steps. It can be used to examine,\\nfor example, how changes in population, income, or tech-\\nnology cost might alter crop production, energy demand, or', metadata={'page': 0, 'source': '/Users/d3y010/repos/crvernon/archive/data/documents/gmd-12-677-2019.pdf'})"
      ]
     },
     "execution_count": 25,
     "metadata": {},
     "output_type": "execute_result"
    }
   ],
   "source": [
    "docs[2]"
   ]
  },
  {
   "cell_type": "code",
   "execution_count": null,
   "id": "169b718a-360e-4cb8-90a4-ecd61cdac81e",
   "metadata": {},
   "outputs": [],
   "source": [
    "metadata = docs[0].metadata\n",
    "\n",
    "page_number = f\"Extracted from page {metadata[\"page\"]}.\"\n",
    "source_document = metadata[\"source\"]\n"
   ]
  },
  {
   "cell_type": "code",
   "execution_count": null,
   "id": "4dcd2a5b-8e19-4504-a1f7-3612f4c53cad",
   "metadata": {},
   "outputs": [],
   "source": []
  },
  {
   "cell_type": "code",
   "execution_count": null,
   "id": "3936bbac-bd42-43de-af9d-c1b4cc9f9fff",
   "metadata": {},
   "outputs": [],
   "source": []
  },
  {
   "cell_type": "code",
   "execution_count": 34,
   "id": "53bcaae2-ac73-4777-8255-ba7c678ad762",
   "metadata": {},
   "outputs": [],
   "source": [
    "qa_chain = RetrievalQA.from_llm(\n",
    "    llm=ChatOpenAI(\n",
    "        temperature=0.0,\n",
    "        model_name=\"gpt-4\",\n",
    "        max_tokens=500\n",
    "    ),\n",
    "    retriever=retriever,\n",
    "    return_source_documents=True\n",
    ")\n"
   ]
  },
  {
   "cell_type": "code",
   "execution_count": 36,
   "id": "54b2ec61-6ced-4c43-8699-457bad27fde4",
   "metadata": {},
   "outputs": [],
   "source": [
    "                 "
   ]
  },
  {
   "cell_type": "code",
   "execution_count": 47,
   "id": "4e81c16a-dc3e-4a7d-9171-edc4559708b9",
   "metadata": {},
   "outputs": [
    {
     "name": "stdout",
     "output_type": "stream",
     "text": [
      "Response:\n",
      "Yes, modeling has been conducted in India with GCAM. The model has been extended to create GCAM-India and GCAM-Gujarat, which are global integrated assessment models with additional details for India and Gujarat. The GCAM-India model includes a detailed India building energy model.\n",
      "\n",
      "Sources:\n",
      "1-s2.0-S0301421517304469-main.pdf\n",
      "908307.pdf\n",
      "Yu_2018_Environ._Res._Lett._13_034034.pdf\n"
     ]
    }
   ],
   "source": [
    "response = qa_chain(\"Has any modeling been conducted in India with GCAM?\")\n",
    "\n",
    "\n",
    "source_docs = []\n",
    "for source in response[\"source_documents\"]:\n",
    "    source_docs.append(os.path.basename(source.metadata[\"source\"]))\n",
    "    \n",
    "print(\"Response:\")\n",
    "print(response[\"result\"])\n",
    "\n",
    "print(\"\\nSources:\")\n",
    "for i in np.unique(source_docs):\n",
    "    print(i)\n"
   ]
  },
  {
   "cell_type": "code",
   "execution_count": null,
   "id": "f43a8108-7d0f-4620-8793-753af264e3ef",
   "metadata": {},
   "outputs": [],
   "source": []
  },
  {
   "cell_type": "code",
   "execution_count": null,
   "id": "ccee709f-067c-4d84-bc86-4006bba348eb",
   "metadata": {},
   "outputs": [],
   "source": []
  },
  {
   "cell_type": "code",
   "execution_count": null,
   "id": "cd9c2511-e8b6-4253-ab9f-40d55a727c9e",
   "metadata": {},
   "outputs": [],
   "source": []
  },
  {
   "cell_type": "code",
   "execution_count": 28,
   "id": "fe89364c-4ff2-4f58-80ea-182041038bf1",
   "metadata": {},
   "outputs": [
    {
     "name": "stdout",
     "output_type": "stream",
     "text": [
      "b\n",
      "G\n",
      "a\n",
      "c\n"
     ]
    }
   ],
   "source": [
    "l = [\"c\", \"a\", \"G\", \"b\"]\n",
    "for i in reversed(l):\n",
    "    print(i)"
   ]
  },
  {
   "cell_type": "code",
   "execution_count": null,
   "id": "21e906ff-26a4-43bc-bcf2-de578bcb6354",
   "metadata": {},
   "outputs": [],
   "source": []
  },
  {
   "cell_type": "code",
   "execution_count": 11,
   "id": "815c9c3b-19ee-4d73-b67c-9eaa26f3c5e4",
   "metadata": {},
   "outputs": [],
   "source": [
    "chain = ConversationalRetrievalChain.from_llm(\n",
    "    ChatOpenAI(\n",
    "        temperature=0.0,\n",
    "        model_name=\"gpt-4\",\n",
    "        max_tokens=500\n",
    "    ),\n",
    "    retriever,\n",
    ")\n"
   ]
  },
  {
   "cell_type": "code",
   "execution_count": 12,
   "id": "ad78c139-9012-43fb-b412-2ce5a16573f9",
   "metadata": {},
   "outputs": [],
   "source": [
    "chat_history = []\n"
   ]
  },
  {
   "cell_type": "code",
   "execution_count": 14,
   "id": "9e1b7cb5-71e8-43ae-8669-772af63e8f75",
   "metadata": {},
   "outputs": [],
   "source": [
    "query = \"What is GCAM?\"\n"
   ]
  },
  {
   "cell_type": "code",
   "execution_count": 15,
   "id": "0682c08a-76e4-4b99-b3e7-9c49008a3c8b",
   "metadata": {},
   "outputs": [
    {
     "data": {
      "text/plain": [
       "'GCAM (Global Change Assessment Model) is a model designed to answer \"what if\" questions about the future. It helps us understand how the future will evolve under a particular set of conditions and how the system will change under the influence of external factors. GCAM represents five different interacting and interconnected systems: energy, water, land, socioeconomics, and climate. It allows users to examine the influence of changes in socioeconomics or policy on energy, water, and land. The model can also be used to explore the implications of changes in one region on other regions.'"
      ]
     },
     "execution_count": 15,
     "metadata": {},
     "output_type": "execute_result"
    }
   ],
   "source": [
    "result = chain(\n",
    "    {\n",
    "    \"question\": query,\n",
    "    \"chat_history\": chat_history\n",
    "    },\n",
    "    return_only_outputs=True\n",
    ")\n",
    "\n",
    "chat_history.append((query, result[\"answer\"]))\n",
    "\n",
    "result[\"answer\"]\n"
   ]
  },
  {
   "cell_type": "code",
   "execution_count": null,
   "id": "c53a1285-358e-488f-84db-619824bc45fe",
   "metadata": {},
   "outputs": [],
   "source": []
  },
  {
   "cell_type": "code",
   "execution_count": null,
   "id": "d9dbb708-f8df-4215-b7c3-2816f16e32a4",
   "metadata": {},
   "outputs": [],
   "source": []
  },
  {
   "cell_type": "code",
   "execution_count": null,
   "id": "787e6c9d-3838-4c85-8122-a8db68e1a644",
   "metadata": {},
   "outputs": [],
   "source": []
  },
  {
   "cell_type": "code",
   "execution_count": null,
   "id": "92f200b6-73cf-4634-9b29-f3e8020c231b",
   "metadata": {},
   "outputs": [],
   "source": []
  },
  {
   "cell_type": "code",
   "execution_count": null,
   "id": "457932fd-4ba6-4fda-898c-7acbe6a778c0",
   "metadata": {},
   "outputs": [],
   "source": []
  }
 ],
 "metadata": {
  "kernelspec": {
   "display_name": "py3.11.2_nlp",
   "language": "python",
   "name": "py3.11.2_nlp"
  },
  "language_info": {
   "codemirror_mode": {
    "name": "ipython",
    "version": 3
   },
   "file_extension": ".py",
   "mimetype": "text/x-python",
   "name": "python",
   "nbconvert_exporter": "python",
   "pygments_lexer": "ipython3",
   "version": "3.11.2"
  }
 },
 "nbformat": 4,
 "nbformat_minor": 5
}
